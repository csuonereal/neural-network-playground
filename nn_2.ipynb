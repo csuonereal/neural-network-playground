{
 "cells": [
  {
   "cell_type": "code",
   "execution_count": 19,
   "metadata": {},
   "outputs": [],
   "source": [
    "import numpy as np\n",
    "import random\n",
    "\n",
    "dataB1 = [2, 1, 0]\n",
    "dataB2 = [3, 1, 0]\n",
    "dataB3 = [2, 0.5, 0]\n",
    "dataB4 = [1, 1, 0]\n",
    "\n",
    "dataR1 = [3, 1.5, 1]\n",
    "dataR2 = [3.5, 0.5, 1]\n",
    "dataR3 = [4, 1.5, 1]\n",
    "dataR4 = [5.5, 1, 1]\n",
    "\n",
    "dataU = [4.5, 1, \"it should be 1\"]\n",
    "\n",
    "allPoints = [dataB1, dataB2, dataB3, dataB4,\n",
    "             dataR1, dataR2, dataR3, dataR4]\n",
    "\n",
    "def sigmoid(x):\n",
    "    return 1 / (1 + np.exp(-x))\n",
    "\n",
    "def train():\n",
    "    w1 = random.uniform(-0.1, 0.1)\n",
    "    w2 = random.uniform(-0.1, 0.1)\n",
    "    b = random.uniform(-0.1, 0.1)\n",
    "    learningRate = 0.2\n",
    "    for i in range(50000):\n",
    "        randomIndex = int(np.floor(np.random.rand()*len(allPoints)))\n",
    "        point = allPoints[randomIndex]\n",
    "        target = point[2]  # target stored in 3rd coordinat of points\n",
    "        z = w1*point[0]+w2*point[1]+b\n",
    "        pred = sigmoid(z)\n",
    "        cost = (pred-target)**2\n",
    "        dcost_dpred = 2*(pred-target)\n",
    "        # pred'in içinin türevi sigmoid(z)*(1-sigmoid(z)) olur\n",
    "        dpred_dz = sigmoid(z)*(1-sigmoid(z))\n",
    "        # sigmoidin içindeki z'nin türevi burada 3 tane zincirleme türev alıcaz w1,w2 ve b için\n",
    "        # z=w1*point[0]+w2*point[1]+b\n",
    "        # w1 baz alınarak türevi alınırsa point[0] kalır\n",
    "        # w2 baz alınarak türev alınırsa point[1] kalır\n",
    "        # b baz alınarak türev alınırsa b'nin katsayısı olan 1 kalır\n",
    "        dz_dw1 = point[0]\n",
    "        dz_dw2 = point[1]\n",
    "        dz_db = 1\n",
    "\n",
    "        # son olarak geriye dcost_pred*dpred_dz*(dz_w1||dz_w2||dz_db)\n",
    "        dcost_dw1 = dcost_dpred*dpred_dz*dz_dw1\n",
    "        dcost_dw2 = dcost_dpred*dpred_dz*dz_dw2\n",
    "        dcost_db = dcost_dpred*dpred_dz*dz_db\n",
    "\n",
    "        w1 -= learningRate * dcost_dw1\n",
    "        w2 -= learningRate * dcost_dw2\n",
    "        b -= learningRate * dcost_db\n",
    "    return ({\"w1\": w1, \"w2\": w2, \"b\": b})\n",
    "\n",
    "\n",
    "def test(input1, input2, w1, w2, b):\n",
    "    z = w1 * input1 + w2 * input2 + b\n",
    "    return sigmoid(z)"
   ]
  },
  {
   "cell_type": "code",
   "execution_count": 25,
   "metadata": {},
   "outputs": [
    {
     "name": "stdout",
     "output_type": "stream",
     "text": [
      "0.9999539894762862\n"
     ]
    }
   ],
   "source": [
    "# example usage\n",
    "trained_weights = train()\n",
    "result = test(dataU[0], dataU[1], trained_weights[\"w1\"],\n",
    "               trained_weights[\"w2\"], trained_weights[\"b\"])\n",
    "print(result)"
   ]
  },
  {
   "cell_type": "code",
   "execution_count": 26,
   "metadata": {},
   "outputs": [
    {
     "name": "stdout",
     "output_type": "stream",
     "text": [
      "0.0006883538756351099\n",
      "0.40765365318196545\n",
      "0.0001353022729082256\n",
      "6.89454646352014e-07\n"
     ]
    }
   ],
   "source": [
    "print(test(2,1, trained_weights[\"w1\"],\n",
    "               trained_weights[\"w2\"], trained_weights[\"b\"]))\n",
    "print(test(3,1, trained_weights[\"w1\"],\n",
    "               trained_weights[\"w2\"], trained_weights[\"b\"]))\n",
    "print(test(2,0.5, trained_weights[\"w1\"],\n",
    "               trained_weights[\"w2\"], trained_weights[\"b\"]))\n",
    "print(test(1,1, trained_weights[\"w1\"],\n",
    "               trained_weights[\"w2\"], trained_weights[\"b\"]))"
   ]
  },
  {
   "cell_type": "code",
   "execution_count": 27,
   "metadata": {},
   "outputs": [
    {
     "name": "stdout",
     "output_type": "stream",
     "text": [
      "0.7779347545936119\n",
      "0.8103681472394755\n",
      "0.9997143668941642\n",
      "0.9999999539454728\n"
     ]
    }
   ],
   "source": [
    "print(test(3,1.5, trained_weights[\"w1\"],\n",
    "               trained_weights[\"w2\"], trained_weights[\"b\"]))\n",
    "print(test(3.5,0.5, trained_weights[\"w1\"],\n",
    "               trained_weights[\"w2\"], trained_weights[\"b\"]))\n",
    "print(test(4,1.5, trained_weights[\"w1\"],\n",
    "               trained_weights[\"w2\"], trained_weights[\"b\"]))\n",
    "print(test(5.5,1, trained_weights[\"w1\"],\n",
    "               trained_weights[\"w2\"], trained_weights[\"b\"]))"
   ]
  }
 ],
 "metadata": {
  "kernelspec": {
   "display_name": "env3.9",
   "language": "python",
   "name": "python3"
  },
  "language_info": {
   "codemirror_mode": {
    "name": "ipython",
    "version": 3
   },
   "file_extension": ".py",
   "mimetype": "text/x-python",
   "name": "python",
   "nbconvert_exporter": "python",
   "pygments_lexer": "ipython3",
   "version": "3.9.0"
  },
  "orig_nbformat": 4
 },
 "nbformat": 4,
 "nbformat_minor": 2
}

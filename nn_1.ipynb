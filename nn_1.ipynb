{
 "cells": [
  {
   "cell_type": "code",
   "execution_count": 5,
   "metadata": {},
   "outputs": [
    {
     "name": "stdout",
     "output_type": "stream",
     "text": [
      "0.24308281444729662 0.4055580734019153 0.1939891109014189\n",
      "0.8947223004223869\n",
      "0.8162689490814474\n"
     ]
    }
   ],
   "source": [
    "import numpy as np\n",
    "\n",
    "def nn(m1,m2,w1,w2,b):\n",
    "    z=w1*m1+w2*m1+b\n",
    "    return sigmoid(z)\n",
    "def sigmoid(x):\n",
    "    return 1/(1+np.exp(-x))\n",
    "\n",
    "w1=np.random.rand()\n",
    "w2=np.random.rand()\n",
    "b=np.random.rand()\n",
    "print(w1,w2,b)\n",
    "\n",
    "print(nn(3,1.5,w1,w2,b))\n",
    "print(nn(2,1,w1,w2,b)) #doğru bir output vermedi,tüm değerler random geldiğinden dolayı"
   ]
  }
 ],
 "metadata": {
  "kernelspec": {
   "display_name": "env3.9",
   "language": "python",
   "name": "python3"
  },
  "language_info": {
   "codemirror_mode": {
    "name": "ipython",
    "version": 3
   },
   "file_extension": ".py",
   "mimetype": "text/x-python",
   "name": "python",
   "nbconvert_exporter": "python",
   "pygments_lexer": "ipython3",
   "version": "3.9.0"
  },
  "orig_nbformat": 4
 },
 "nbformat": 4,
 "nbformat_minor": 2
}
